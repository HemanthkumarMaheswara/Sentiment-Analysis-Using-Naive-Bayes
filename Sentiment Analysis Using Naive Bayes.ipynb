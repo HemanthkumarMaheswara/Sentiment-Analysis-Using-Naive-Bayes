{
 "cells": [
  {
   "cell_type": "markdown",
   "id": "65366200",
   "metadata": {},
   "source": [
    "## Problem Statement\n",
    "Develop a sentiment analysis model to classify reviews as positive or negative . Preprocess the review text using techniques such as lower casing, removing stop words and lemmatization and also use trained model accurately predict the sentiment of new , unseen reviews."
   ]
  },
  {
   "cell_type": "code",
   "execution_count": 1,
   "id": "b94cf6c2",
   "metadata": {},
   "outputs": [],
   "source": [
    "import pandas as pd"
   ]
  },
  {
   "cell_type": "code",
   "execution_count": 2,
   "id": "2886a827",
   "metadata": {},
   "outputs": [],
   "source": [
    "df=pd.read_excel(\"C:\\\\Users\\\\HEMANTH KUMAR\\\\Downloads\\\\Reviews.xlsx\")"
   ]
  },
  {
   "cell_type": "code",
   "execution_count": 3,
   "id": "57c9064c",
   "metadata": {},
   "outputs": [
    {
     "data": {
      "text/html": [
       "<div>\n",
       "<style scoped>\n",
       "    .dataframe tbody tr th:only-of-type {\n",
       "        vertical-align: middle;\n",
       "    }\n",
       "\n",
       "    .dataframe tbody tr th {\n",
       "        vertical-align: top;\n",
       "    }\n",
       "\n",
       "    .dataframe thead th {\n",
       "        text-align: right;\n",
       "    }\n",
       "</style>\n",
       "<table border=\"1\" class=\"dataframe\">\n",
       "  <thead>\n",
       "    <tr style=\"text-align: right;\">\n",
       "      <th></th>\n",
       "      <th>Review</th>\n",
       "      <th>Liked</th>\n",
       "    </tr>\n",
       "  </thead>\n",
       "  <tbody>\n",
       "    <tr>\n",
       "      <th>0</th>\n",
       "      <td>Wow... Loved this place.</td>\n",
       "      <td>1</td>\n",
       "    </tr>\n",
       "    <tr>\n",
       "      <th>1</th>\n",
       "      <td>Crust is not good.</td>\n",
       "      <td>0</td>\n",
       "    </tr>\n",
       "    <tr>\n",
       "      <th>2</th>\n",
       "      <td>Not tasty and the texture was just nasty.</td>\n",
       "      <td>0</td>\n",
       "    </tr>\n",
       "    <tr>\n",
       "      <th>3</th>\n",
       "      <td>Stopped by during the late May bank holiday of...</td>\n",
       "      <td>1</td>\n",
       "    </tr>\n",
       "    <tr>\n",
       "      <th>4</th>\n",
       "      <td>The selection on the menu was great and so wer...</td>\n",
       "      <td>1</td>\n",
       "    </tr>\n",
       "    <tr>\n",
       "      <th>...</th>\n",
       "      <td>...</td>\n",
       "      <td>...</td>\n",
       "    </tr>\n",
       "    <tr>\n",
       "      <th>995</th>\n",
       "      <td>I think food should have flavor and texture an...</td>\n",
       "      <td>0</td>\n",
       "    </tr>\n",
       "    <tr>\n",
       "      <th>996</th>\n",
       "      <td>Appetite instantly gone.</td>\n",
       "      <td>0</td>\n",
       "    </tr>\n",
       "    <tr>\n",
       "      <th>997</th>\n",
       "      <td>Overall I was not impressed and would not go b...</td>\n",
       "      <td>0</td>\n",
       "    </tr>\n",
       "    <tr>\n",
       "      <th>998</th>\n",
       "      <td>The whole experience was underwhelming, and I ...</td>\n",
       "      <td>0</td>\n",
       "    </tr>\n",
       "    <tr>\n",
       "      <th>999</th>\n",
       "      <td>Then, as if I hadn't wasted enough of my life ...</td>\n",
       "      <td>0</td>\n",
       "    </tr>\n",
       "  </tbody>\n",
       "</table>\n",
       "<p>1000 rows × 2 columns</p>\n",
       "</div>"
      ],
      "text/plain": [
       "                                                Review  Liked\n",
       "0                             Wow... Loved this place.      1\n",
       "1                                   Crust is not good.      0\n",
       "2            Not tasty and the texture was just nasty.      0\n",
       "3    Stopped by during the late May bank holiday of...      1\n",
       "4    The selection on the menu was great and so wer...      1\n",
       "..                                                 ...    ...\n",
       "995  I think food should have flavor and texture an...      0\n",
       "996                           Appetite instantly gone.      0\n",
       "997  Overall I was not impressed and would not go b...      0\n",
       "998  The whole experience was underwhelming, and I ...      0\n",
       "999  Then, as if I hadn't wasted enough of my life ...      0\n",
       "\n",
       "[1000 rows x 2 columns]"
      ]
     },
     "execution_count": 3,
     "metadata": {},
     "output_type": "execute_result"
    }
   ],
   "source": [
    "df"
   ]
  },
  {
   "cell_type": "code",
   "execution_count": 4,
   "id": "91ce3108",
   "metadata": {},
   "outputs": [
    {
     "data": {
      "text/html": [
       "<div>\n",
       "<style scoped>\n",
       "    .dataframe tbody tr th:only-of-type {\n",
       "        vertical-align: middle;\n",
       "    }\n",
       "\n",
       "    .dataframe tbody tr th {\n",
       "        vertical-align: top;\n",
       "    }\n",
       "\n",
       "    .dataframe thead th {\n",
       "        text-align: right;\n",
       "    }\n",
       "</style>\n",
       "<table border=\"1\" class=\"dataframe\">\n",
       "  <thead>\n",
       "    <tr style=\"text-align: right;\">\n",
       "      <th></th>\n",
       "      <th>Review</th>\n",
       "      <th>Liked</th>\n",
       "    </tr>\n",
       "  </thead>\n",
       "  <tbody>\n",
       "    <tr>\n",
       "      <th>0</th>\n",
       "      <td>Wow... Loved this place.</td>\n",
       "      <td>1</td>\n",
       "    </tr>\n",
       "    <tr>\n",
       "      <th>1</th>\n",
       "      <td>Crust is not good.</td>\n",
       "      <td>0</td>\n",
       "    </tr>\n",
       "    <tr>\n",
       "      <th>2</th>\n",
       "      <td>Not tasty and the texture was just nasty.</td>\n",
       "      <td>0</td>\n",
       "    </tr>\n",
       "    <tr>\n",
       "      <th>3</th>\n",
       "      <td>Stopped by during the late May bank holiday of...</td>\n",
       "      <td>1</td>\n",
       "    </tr>\n",
       "    <tr>\n",
       "      <th>4</th>\n",
       "      <td>The selection on the menu was great and so wer...</td>\n",
       "      <td>1</td>\n",
       "    </tr>\n",
       "  </tbody>\n",
       "</table>\n",
       "</div>"
      ],
      "text/plain": [
       "                                              Review  Liked\n",
       "0                           Wow... Loved this place.      1\n",
       "1                                 Crust is not good.      0\n",
       "2          Not tasty and the texture was just nasty.      0\n",
       "3  Stopped by during the late May bank holiday of...      1\n",
       "4  The selection on the menu was great and so wer...      1"
      ]
     },
     "execution_count": 4,
     "metadata": {},
     "output_type": "execute_result"
    }
   ],
   "source": [
    "#we can review the 5 rows\n",
    "df.head()"
   ]
  },
  {
   "cell_type": "code",
   "execution_count": 5,
   "id": "4f44c45c",
   "metadata": {},
   "outputs": [
    {
     "data": {
      "text/html": [
       "<div>\n",
       "<style scoped>\n",
       "    .dataframe tbody tr th:only-of-type {\n",
       "        vertical-align: middle;\n",
       "    }\n",
       "\n",
       "    .dataframe tbody tr th {\n",
       "        vertical-align: top;\n",
       "    }\n",
       "\n",
       "    .dataframe thead th {\n",
       "        text-align: right;\n",
       "    }\n",
       "</style>\n",
       "<table border=\"1\" class=\"dataframe\">\n",
       "  <thead>\n",
       "    <tr style=\"text-align: right;\">\n",
       "      <th></th>\n",
       "      <th>Review</th>\n",
       "      <th>Liked</th>\n",
       "    </tr>\n",
       "  </thead>\n",
       "  <tbody>\n",
       "    <tr>\n",
       "      <th>990</th>\n",
       "      <td>The refried beans that came with my meal were ...</td>\n",
       "      <td>0</td>\n",
       "    </tr>\n",
       "    <tr>\n",
       "      <th>991</th>\n",
       "      <td>Spend your money and time some place else.</td>\n",
       "      <td>0</td>\n",
       "    </tr>\n",
       "    <tr>\n",
       "      <th>992</th>\n",
       "      <td>A lady at the table next to us found a live gr...</td>\n",
       "      <td>0</td>\n",
       "    </tr>\n",
       "    <tr>\n",
       "      <th>993</th>\n",
       "      <td>the presentation of the food was awful.</td>\n",
       "      <td>0</td>\n",
       "    </tr>\n",
       "    <tr>\n",
       "      <th>994</th>\n",
       "      <td>I can't tell you how disappointed I was.</td>\n",
       "      <td>0</td>\n",
       "    </tr>\n",
       "    <tr>\n",
       "      <th>995</th>\n",
       "      <td>I think food should have flavor and texture an...</td>\n",
       "      <td>0</td>\n",
       "    </tr>\n",
       "    <tr>\n",
       "      <th>996</th>\n",
       "      <td>Appetite instantly gone.</td>\n",
       "      <td>0</td>\n",
       "    </tr>\n",
       "    <tr>\n",
       "      <th>997</th>\n",
       "      <td>Overall I was not impressed and would not go b...</td>\n",
       "      <td>0</td>\n",
       "    </tr>\n",
       "    <tr>\n",
       "      <th>998</th>\n",
       "      <td>The whole experience was underwhelming, and I ...</td>\n",
       "      <td>0</td>\n",
       "    </tr>\n",
       "    <tr>\n",
       "      <th>999</th>\n",
       "      <td>Then, as if I hadn't wasted enough of my life ...</td>\n",
       "      <td>0</td>\n",
       "    </tr>\n",
       "  </tbody>\n",
       "</table>\n",
       "</div>"
      ],
      "text/plain": [
       "                                                Review  Liked\n",
       "990  The refried beans that came with my meal were ...      0\n",
       "991         Spend your money and time some place else.      0\n",
       "992  A lady at the table next to us found a live gr...      0\n",
       "993            the presentation of the food was awful.      0\n",
       "994           I can't tell you how disappointed I was.      0\n",
       "995  I think food should have flavor and texture an...      0\n",
       "996                           Appetite instantly gone.      0\n",
       "997  Overall I was not impressed and would not go b...      0\n",
       "998  The whole experience was underwhelming, and I ...      0\n",
       "999  Then, as if I hadn't wasted enough of my life ...      0"
      ]
     },
     "execution_count": 5,
     "metadata": {},
     "output_type": "execute_result"
    }
   ],
   "source": [
    "#retrun last 5 rows\n",
    "df.tail(10)"
   ]
  },
  {
   "cell_type": "code",
   "execution_count": 6,
   "id": "6498a9bf",
   "metadata": {},
   "outputs": [
    {
     "name": "stdout",
     "output_type": "stream",
     "text": [
      "<class 'pandas.core.frame.DataFrame'>\n",
      "RangeIndex: 1000 entries, 0 to 999\n",
      "Data columns (total 2 columns):\n",
      " #   Column  Non-Null Count  Dtype \n",
      "---  ------  --------------  ----- \n",
      " 0   Review  996 non-null    object\n",
      " 1   Liked   1000 non-null   int64 \n",
      "dtypes: int64(1), object(1)\n",
      "memory usage: 15.8+ KB\n"
     ]
    }
   ],
   "source": [
    "df.info()"
   ]
  },
  {
   "cell_type": "code",
   "execution_count": 7,
   "id": "5b16cca9",
   "metadata": {},
   "outputs": [
    {
     "data": {
      "text/plain": [
       "Review    4\n",
       "Liked     0\n",
       "dtype: int64"
      ]
     },
     "execution_count": 7,
     "metadata": {},
     "output_type": "execute_result"
    }
   ],
   "source": [
    "df.isnull().sum()"
   ]
  },
  {
   "cell_type": "code",
   "execution_count": 8,
   "id": "5321a738",
   "metadata": {},
   "outputs": [
    {
     "data": {
      "text/html": [
       "<div>\n",
       "<style scoped>\n",
       "    .dataframe tbody tr th:only-of-type {\n",
       "        vertical-align: middle;\n",
       "    }\n",
       "\n",
       "    .dataframe tbody tr th {\n",
       "        vertical-align: top;\n",
       "    }\n",
       "\n",
       "    .dataframe thead th {\n",
       "        text-align: right;\n",
       "    }\n",
       "</style>\n",
       "<table border=\"1\" class=\"dataframe\">\n",
       "  <thead>\n",
       "    <tr style=\"text-align: right;\">\n",
       "      <th></th>\n",
       "      <th>Review</th>\n",
       "      <th>Liked</th>\n",
       "    </tr>\n",
       "  </thead>\n",
       "  <tbody>\n",
       "    <tr>\n",
       "      <th>0</th>\n",
       "      <td>Wow... Loved this place.</td>\n",
       "      <td>1</td>\n",
       "    </tr>\n",
       "    <tr>\n",
       "      <th>1</th>\n",
       "      <td>Crust is not good.</td>\n",
       "      <td>0</td>\n",
       "    </tr>\n",
       "    <tr>\n",
       "      <th>2</th>\n",
       "      <td>Not tasty and the texture was just nasty.</td>\n",
       "      <td>0</td>\n",
       "    </tr>\n",
       "    <tr>\n",
       "      <th>3</th>\n",
       "      <td>Stopped by during the late May bank holiday of...</td>\n",
       "      <td>1</td>\n",
       "    </tr>\n",
       "    <tr>\n",
       "      <th>4</th>\n",
       "      <td>The selection on the menu was great and so wer...</td>\n",
       "      <td>1</td>\n",
       "    </tr>\n",
       "    <tr>\n",
       "      <th>...</th>\n",
       "      <td>...</td>\n",
       "      <td>...</td>\n",
       "    </tr>\n",
       "    <tr>\n",
       "      <th>995</th>\n",
       "      <td>I think food should have flavor and texture an...</td>\n",
       "      <td>0</td>\n",
       "    </tr>\n",
       "    <tr>\n",
       "      <th>996</th>\n",
       "      <td>Appetite instantly gone.</td>\n",
       "      <td>0</td>\n",
       "    </tr>\n",
       "    <tr>\n",
       "      <th>997</th>\n",
       "      <td>Overall I was not impressed and would not go b...</td>\n",
       "      <td>0</td>\n",
       "    </tr>\n",
       "    <tr>\n",
       "      <th>998</th>\n",
       "      <td>The whole experience was underwhelming, and I ...</td>\n",
       "      <td>0</td>\n",
       "    </tr>\n",
       "    <tr>\n",
       "      <th>999</th>\n",
       "      <td>Then, as if I hadn't wasted enough of my life ...</td>\n",
       "      <td>0</td>\n",
       "    </tr>\n",
       "  </tbody>\n",
       "</table>\n",
       "<p>996 rows × 2 columns</p>\n",
       "</div>"
      ],
      "text/plain": [
       "                                                Review  Liked\n",
       "0                             Wow... Loved this place.      1\n",
       "1                                   Crust is not good.      0\n",
       "2            Not tasty and the texture was just nasty.      0\n",
       "3    Stopped by during the late May bank holiday of...      1\n",
       "4    The selection on the menu was great and so wer...      1\n",
       "..                                                 ...    ...\n",
       "995  I think food should have flavor and texture an...      0\n",
       "996                           Appetite instantly gone.      0\n",
       "997  Overall I was not impressed and would not go b...      0\n",
       "998  The whole experience was underwhelming, and I ...      0\n",
       "999  Then, as if I hadn't wasted enough of my life ...      0\n",
       "\n",
       "[996 rows x 2 columns]"
      ]
     },
     "execution_count": 8,
     "metadata": {},
     "output_type": "execute_result"
    }
   ],
   "source": [
    "df.dropna()"
   ]
  },
  {
   "cell_type": "code",
   "execution_count": 9,
   "id": "b03afc52",
   "metadata": {},
   "outputs": [
    {
     "data": {
      "text/plain": [
       "0      False\n",
       "1      False\n",
       "2      False\n",
       "3      False\n",
       "4      False\n",
       "       ...  \n",
       "995    False\n",
       "996    False\n",
       "997    False\n",
       "998    False\n",
       "999    False\n",
       "Length: 1000, dtype: bool"
      ]
     },
     "execution_count": 9,
     "metadata": {},
     "output_type": "execute_result"
    }
   ],
   "source": [
    "df.duplicated()"
   ]
  },
  {
   "cell_type": "code",
   "execution_count": 10,
   "id": "e805793d",
   "metadata": {},
   "outputs": [],
   "source": [
    "import seaborn as sb\n",
    "import matplotlib.pyplot as plt \n",
    "from wordcloud import WordCloud"
   ]
  },
  {
   "cell_type": "code",
   "execution_count": 11,
   "id": "038f5f3c",
   "metadata": {},
   "outputs": [],
   "source": [
    "combine_text = \" \".join(df['Review'].astype(str)) #combine all review text into string"
   ]
  },
  {
   "cell_type": "code",
   "execution_count": 12,
   "id": "af0f0f54",
   "metadata": {},
   "outputs": [],
   "source": [
    "wordcloud=WordCloud(width=800,height=400,background_color = 'white').generate(combine_text)"
   ]
  },
  {
   "cell_type": "code",
   "execution_count": 13,
   "id": "ff1b01e2",
   "metadata": {},
   "outputs": [
    {
     "data": {
      "image/png": "[encoded data removed]",
      "text/plain": [
       "<Figure size 1000x600 with 1 Axes>"
      ]
     },
     "metadata": {},
     "output_type": "display_data"
    }
   ],
   "source": [
    "#plot the word cloud\n",
    "plt.figure(figsize=(10,6))\n",
    "plt.imshow(wordcloud,interpolation='bilinear')\n",
    "plt.axis('off')\n",
    "plt.title('Word Cloud of Reviews')\n",
    "plt.show()"
   ]
  },
  {
   "cell_type": "code",
   "execution_count": 14,
   "id": "687ec704",
   "metadata": {},
   "outputs": [],
   "source": [
    "from collections import Counter"
   ]
  },
  {
   "cell_type": "code",
   "execution_count": 15,
   "id": "cc083da6",
   "metadata": {},
   "outputs": [],
   "source": [
    "target_words=['good','great','amazing','bad','worst','pretty','friendly']\n",
    "allwords=\" \".join(df['Review'].astype(str)).split()\n",
    "words_count=Counter(allwords)\n",
    "target_count={word:words_count[word] for word in target_words}"
   ]
  },
  {
   "cell_type": "code",
   "execution_count": 16,
   "id": "05e9e4c7",
   "metadata": {},
   "outputs": [
    {
     "data": {
      "image/png": "[encoded data removed]",
      "text/plain": [
       "<Figure size 800x600 with 1 Axes>"
      ]
     },
     "metadata": {},
     "output_type": "display_data"
    }
   ],
   "source": [
    "plt.figure(figsize=(8,6))\n",
    "plt.bar(target_count.keys(),target_count.values(),color=['blue','green','orange','red','black','pink','lightblue'])\n",
    "plt.xlabel('Words')\n",
    "plt.ylabel('Frequency')\n",
    "plt.title('Frequency of specific words in reviews')\n",
    "plt.show()"
   ]
  },
  {
   "cell_type": "code",
   "execution_count": 17,
   "id": "38e82989",
   "metadata": {},
   "outputs": [],
   "source": [
    "#text preprocessing "
   ]
  },
  {
   "cell_type": "code",
   "execution_count": 18,
   "id": "4612ca14",
   "metadata": {},
   "outputs": [
    {
     "data": {
      "text/plain": [
       "0                               wow... loved this place.\n",
       "1                                     crust is not good.\n",
       "2              not tasty and the texture was just nasty.\n",
       "3      stopped by during the late may bank holiday of...\n",
       "4      the selection on the menu was great and so wer...\n",
       "                             ...                        \n",
       "995    i think food should have flavor and texture an...\n",
       "996                             appetite instantly gone.\n",
       "997    overall i was not impressed and would not go b...\n",
       "998    the whole experience was underwhelming, and i ...\n",
       "999    then, as if i hadn't wasted enough of my life ...\n",
       "Name: Review, Length: 1000, dtype: object"
      ]
     },
     "execution_count": 18,
     "metadata": {},
     "output_type": "execute_result"
    }
   ],
   "source": [
    "#we covert a dataset into lowercase\n",
    "lowercase_txt=df['Review'].str.lower()\n",
    "lowercase_txt"
   ]
  },
  {
   "cell_type": "code",
   "execution_count": 19,
   "id": "398e117b",
   "metadata": {},
   "outputs": [],
   "source": [
    "###Tokenization\n",
    "#it is the process of breaking down a pice of text into smaller units"
   ]
  },
  {
   "cell_type": "code",
   "execution_count": 20,
   "id": "cd1f8add",
   "metadata": {},
   "outputs": [],
   "source": [
    "from nltk.tokenize import word_tokenize"
   ]
  },
  {
   "cell_type": "code",
   "execution_count": 21,
   "id": "e320b04e",
   "metadata": {},
   "outputs": [],
   "source": [
    "df['Review'] = df['Review'].astype(str)\n",
    "df['Tokens']=df['Review'].apply(word_tokenize)"
   ]
  },
  {
   "cell_type": "code",
   "execution_count": 22,
   "id": "6b6f228a",
   "metadata": {},
   "outputs": [
    {
     "name": "stdout",
     "output_type": "stream",
     "text": [
      "0                      [Wow, ..., Loved, this, place, .]\n",
      "1                              [Crust, is, not, good, .]\n",
      "2      [Not, tasty, and, the, texture, was, just, nas...\n",
      "3      [Stopped, by, during, the, late, May, bank, ho...\n",
      "4      [The, selection, on, the, menu, was, great, an...\n",
      "                             ...                        \n",
      "995    [I, think, food, should, have, flavor, and, te...\n",
      "996                       [Appetite, instantly, gone, .]\n",
      "997    [Overall, I, was, not, impressed, and, would, ...\n",
      "998    [The, whole, experience, was, underwhelming, ,...\n",
      "999    [Then, ,, as, if, I, had, n't, wasted, enough,...\n",
      "Name: Tokens, Length: 1000, dtype: object\n"
     ]
    }
   ],
   "source": [
    "print(df['Tokens'])"
   ]
  },
  {
   "cell_type": "code",
   "execution_count": 23,
   "id": "743186db",
   "metadata": {},
   "outputs": [
    {
     "name": "stdout",
     "output_type": "stream",
     "text": [
      "<class 'pandas.core.frame.DataFrame'>\n",
      "RangeIndex: 1000 entries, 0 to 999\n",
      "Data columns (total 3 columns):\n",
      " #   Column  Non-Null Count  Dtype \n",
      "---  ------  --------------  ----- \n",
      " 0   Review  1000 non-null   object\n",
      " 1   Liked   1000 non-null   int64 \n",
      " 2   Tokens  1000 non-null   object\n",
      "dtypes: int64(1), object(2)\n",
      "memory usage: 23.6+ KB\n"
     ]
    }
   ],
   "source": [
    "df.info()"
   ]
  },
  {
   "cell_type": "code",
   "execution_count": 24,
   "id": "88832db0",
   "metadata": {},
   "outputs": [],
   "source": [
    "#Removing Stop words\n",
    "from nltk.corpus import stopwords\n",
    "from nltk.tokenize import word_tokenize"
   ]
  },
  {
   "cell_type": "code",
   "execution_count": 25,
   "id": "76eb9e46",
   "metadata": {},
   "outputs": [],
   "source": [
    "# Get the English stopwords and convert them to a set\n",
    "stopwords_set = set(stopwords.words('english'))\n"
   ]
  },
  {
   "cell_type": "code",
   "execution_count": 26,
   "id": "17cc8607",
   "metadata": {},
   "outputs": [
    {
     "name": "stdout",
     "output_type": "stream",
     "text": [
      "0                            [wow, ..., loved, place, .]\n",
      "1                                       [crust, good, .]\n",
      "2                             [tasty, texture, nasty, .]\n",
      "3      [stopped, late, may, bank, holiday, rick, stev...\n",
      "4                    [selection, menu, great, prices, .]\n",
      "                             ...                        \n",
      "995           [think, food, flavor, texture, lacking, .]\n",
      "996                       [appetite, instantly, gone, .]\n",
      "997             [overall, impressed, would, go, back, .]\n",
      "998    [whole, experience, underwhelming, ,, think, '...\n",
      "999    [,, n't, wasted, enough, life, ,, poured, salt...\n",
      "Name: Tokens, Length: 1000, dtype: object\n"
     ]
    }
   ],
   "source": [
    "# Assuming your DataFrame is named df and has a column named 'Review'\n",
    "df['Review'] = df['Review'].astype(str)\n",
    "\n",
    "df['Tokens'] = df['Review'].apply(lambda x: [word for word in word_tokenize(x.lower()) if word not in stopwords_set])\n",
    "\n",
    "print(df['Tokens'])\n"
   ]
  },
  {
   "cell_type": "code",
   "execution_count": 27,
   "id": "79761a9e",
   "metadata": {},
   "outputs": [],
   "source": [
    "#stemming\n",
    "#it is the process of reducing words to its baase or root form\n",
    "from nltk.stem import PorterStemmer"
   ]
  },
  {
   "cell_type": "code",
   "execution_count": 28,
   "id": "94ad4c25",
   "metadata": {},
   "outputs": [],
   "source": [
    "stemmer=PorterStemmer()"
   ]
  },
  {
   "cell_type": "code",
   "execution_count": 29,
   "id": "9b674514",
   "metadata": {},
   "outputs": [],
   "source": [
    "df['Stemmed']=df['Review'].apply(lambda x:' '.join(stemmer.stem(word) for word in word_tokenize(x)))"
   ]
  },
  {
   "cell_type": "code",
   "execution_count": 30,
   "id": "ce64ad96",
   "metadata": {},
   "outputs": [
    {
     "name": "stdout",
     "output_type": "stream",
     "text": [
      "0                               wow ... love thi place .\n",
      "1                                    crust is not good .\n",
      "2               not tasti and the textur wa just nasti .\n",
      "3      stop by dure the late may bank holiday off ric...\n",
      "4      the select on the menu wa great and so were th...\n",
      "                             ...                        \n",
      "995    i think food should have flavor and textur and...\n",
      "996                             appetit instantli gone .\n",
      "997      overal i wa not impress and would not go back .\n",
      "998    the whole experi wa underwhelm , and i think w...\n",
      "999    then , as if i had n't wast enough of my life ...\n",
      "Name: Stemmed, Length: 1000, dtype: object\n"
     ]
    }
   ],
   "source": [
    "print(df['Stemmed'])"
   ]
  },
  {
   "cell_type": "code",
   "execution_count": 31,
   "id": "957d6df9",
   "metadata": {},
   "outputs": [
    {
     "data": {
      "text/plain": [
       "Stemmed\n",
       "nan                                                                                                                                    4\n",
       "the food wa terribl .                                                                                                                  2\n",
       "i would not recommend thi place .                                                                                                      2\n",
       "i love thi place .                                                                                                                     2\n",
       "i wo n't be back .                                                                                                                     2\n",
       "                                                                                                                                      ..\n",
       "omg , the food wa delicioso !                                                                                                          1\n",
       "there is noth authent about thi place .                                                                                                1\n",
       "the spaghetti is noth special whatsoev .                                                                                               1\n",
       "of all the dish , the salmon wa the best , but all were great .                                                                        1\n",
       "then , as if i had n't wast enough of my life there , they pour salt in the wound by draw out the time it took to bring the check .    1\n",
       "Name: count, Length: 993, dtype: int64"
      ]
     },
     "execution_count": 31,
     "metadata": {},
     "output_type": "execute_result"
    }
   ],
   "source": [
    "df['Stemmed'].value_counts()"
   ]
  },
  {
   "cell_type": "code",
   "execution_count": 32,
   "id": "e3cdea2c",
   "metadata": {},
   "outputs": [],
   "source": [
    "from nltk.stem import WordNetLemmatizer\n",
    "from nltk.corpus import wordnet"
   ]
  },
  {
   "cell_type": "code",
   "execution_count": 33,
   "id": "27f83745",
   "metadata": {},
   "outputs": [],
   "source": [
    "lemmatizer=WordNetLemmatizer()"
   ]
  },
  {
   "cell_type": "code",
   "execution_count": 34,
   "id": "50f2568e",
   "metadata": {},
   "outputs": [],
   "source": [
    "df['Lemmatized'] = df['Review'].apply(lambda x: ' '.join([lemmatizer.lemmatize(word,pos=wordnet.VERB) for word in word_tokenize(x)]))"
   ]
  },
  {
   "cell_type": "code",
   "execution_count": 35,
   "id": "a8a8d472",
   "metadata": {},
   "outputs": [
    {
     "name": "stdout",
     "output_type": "stream",
     "text": [
      "0                             Wow ... Loved this place .\n",
      "1                                    Crust be not good .\n",
      "2              Not tasty and the texture be just nasty .\n",
      "3      Stopped by during the late May bank holiday of...\n",
      "4      The selection on the menu be great and so be t...\n",
      "                             ...                        \n",
      "995    I think food should have flavor and texture an...\n",
      "996                              Appetite instantly go .\n",
      "997     Overall I be not impress and would not go back .\n",
      "998    The whole experience be underwhelming , and I ...\n",
      "999    Then , as if I have n't waste enough of my lif...\n",
      "Name: Lemmatized, Length: 1000, dtype: object\n"
     ]
    }
   ],
   "source": [
    "print(df['Lemmatized'])"
   ]
  },
  {
   "cell_type": "code",
   "execution_count": 36,
   "id": "6386a497",
   "metadata": {},
   "outputs": [],
   "source": [
    "#Remove numbers"
   ]
  },
  {
   "cell_type": "code",
   "execution_count": 37,
   "id": "34d39232",
   "metadata": {},
   "outputs": [],
   "source": [
    "import re\n",
    "df['No_num']=df['Review'].apply(lambda x :re.sub(r'\\d+','',x))"
   ]
  },
  {
   "cell_type": "code",
   "execution_count": 38,
   "id": "2216d3a3",
   "metadata": {},
   "outputs": [
    {
     "data": {
      "text/plain": [
       "0                               Wow... Loved this place.\n",
       "1                                     Crust is not good.\n",
       "2              Not tasty and the texture was just nasty.\n",
       "3      Stopped by during the late May bank holiday of...\n",
       "4      The selection on the menu was great and so wer...\n",
       "                             ...                        \n",
       "995    I think food should have flavor and texture an...\n",
       "996                             Appetite instantly gone.\n",
       "997    Overall I was not impressed and would not go b...\n",
       "998    The whole experience was underwhelming, and I ...\n",
       "999    Then, as if I hadn't wasted enough of my life ...\n",
       "Name: No_num, Length: 1000, dtype: object"
      ]
     },
     "execution_count": 38,
     "metadata": {},
     "output_type": "execute_result"
    }
   ],
   "source": [
    "df['No_num']"
   ]
  },
  {
   "cell_type": "code",
   "execution_count": 39,
   "id": "bdfdd0ab",
   "metadata": {},
   "outputs": [],
   "source": [
    "df['Cleaned']=df['Review'].apply(lambda x: re.sub(r'[^A-Za-z0-9\\s]','',x))"
   ]
  },
  {
   "cell_type": "code",
   "execution_count": 40,
   "id": "39ca11a8",
   "metadata": {},
   "outputs": [
    {
     "data": {
      "text/plain": [
       "0                                   Wow Loved this place\n",
       "1                                      Crust is not good\n",
       "2               Not tasty and the texture was just nasty\n",
       "3      Stopped by during the late May bank holiday of...\n",
       "4      The selection on the menu was great and so wer...\n",
       "                             ...                        \n",
       "995    I think food should have flavor and texture an...\n",
       "996                              Appetite instantly gone\n",
       "997    Overall I was not impressed and would not go back\n",
       "998    The whole experience was underwhelming and I t...\n",
       "999    Then as if I hadnt wasted enough of my life th...\n",
       "Name: Cleaned, Length: 1000, dtype: object"
      ]
     },
     "execution_count": 40,
     "metadata": {},
     "output_type": "execute_result"
    }
   ],
   "source": [
    "df['Cleaned']"
   ]
  },
  {
   "cell_type": "code",
   "execution_count": 41,
   "id": "ae82882b",
   "metadata": {},
   "outputs": [
    {
     "name": "stdout",
     "output_type": "stream",
     "text": [
      "<class 'pandas.core.frame.DataFrame'>\n",
      "RangeIndex: 1000 entries, 0 to 999\n",
      "Data columns (total 7 columns):\n",
      " #   Column      Non-Null Count  Dtype \n",
      "---  ------      --------------  ----- \n",
      " 0   Review      1000 non-null   object\n",
      " 1   Liked       1000 non-null   int64 \n",
      " 2   Tokens      1000 non-null   object\n",
      " 3   Stemmed     1000 non-null   object\n",
      " 4   Lemmatized  1000 non-null   object\n",
      " 5   No_num      1000 non-null   object\n",
      " 6   Cleaned     1000 non-null   object\n",
      "dtypes: int64(1), object(6)\n",
      "memory usage: 54.8+ KB\n"
     ]
    }
   ],
   "source": [
    "df.info()"
   ]
  },
  {
   "cell_type": "code",
   "execution_count": 42,
   "id": "b2d6747e",
   "metadata": {},
   "outputs": [
    {
     "data": {
      "text/html": [
       "<div>\n",
       "<style scoped>\n",
       "    .dataframe tbody tr th:only-of-type {\n",
       "        vertical-align: middle;\n",
       "    }\n",
       "\n",
       "    .dataframe tbody tr th {\n",
       "        vertical-align: top;\n",
       "    }\n",
       "\n",
       "    .dataframe thead th {\n",
       "        text-align: right;\n",
       "    }\n",
       "</style>\n",
       "<table border=\"1\" class=\"dataframe\">\n",
       "  <thead>\n",
       "    <tr style=\"text-align: right;\">\n",
       "      <th></th>\n",
       "      <th>Review</th>\n",
       "      <th>Liked</th>\n",
       "      <th>Tokens</th>\n",
       "      <th>Stemmed</th>\n",
       "      <th>Lemmatized</th>\n",
       "      <th>No_num</th>\n",
       "      <th>Cleaned</th>\n",
       "    </tr>\n",
       "  </thead>\n",
       "  <tbody>\n",
       "    <tr>\n",
       "      <th>0</th>\n",
       "      <td>Wow... Loved this place.</td>\n",
       "      <td>1</td>\n",
       "      <td>[wow, ..., loved, place, .]</td>\n",
       "      <td>wow ... love thi place .</td>\n",
       "      <td>Wow ... Loved this place .</td>\n",
       "      <td>Wow... Loved this place.</td>\n",
       "      <td>Wow Loved this place</td>\n",
       "    </tr>\n",
       "    <tr>\n",
       "      <th>1</th>\n",
       "      <td>Crust is not good.</td>\n",
       "      <td>0</td>\n",
       "      <td>[crust, good, .]</td>\n",
       "      <td>crust is not good .</td>\n",
       "      <td>Crust be not good .</td>\n",
       "      <td>Crust is not good.</td>\n",
       "      <td>Crust is not good</td>\n",
       "    </tr>\n",
       "    <tr>\n",
       "      <th>2</th>\n",
       "      <td>Not tasty and the texture was just nasty.</td>\n",
       "      <td>0</td>\n",
       "      <td>[tasty, texture, nasty, .]</td>\n",
       "      <td>not tasti and the textur wa just nasti .</td>\n",
       "      <td>Not tasty and the texture be just nasty .</td>\n",
       "      <td>Not tasty and the texture was just nasty.</td>\n",
       "      <td>Not tasty and the texture was just nasty</td>\n",
       "    </tr>\n",
       "    <tr>\n",
       "      <th>3</th>\n",
       "      <td>Stopped by during the late May bank holiday of...</td>\n",
       "      <td>1</td>\n",
       "      <td>[stopped, late, may, bank, holiday, rick, stev...</td>\n",
       "      <td>stop by dure the late may bank holiday off ric...</td>\n",
       "      <td>Stopped by during the late May bank holiday of...</td>\n",
       "      <td>Stopped by during the late May bank holiday of...</td>\n",
       "      <td>Stopped by during the late May bank holiday of...</td>\n",
       "    </tr>\n",
       "    <tr>\n",
       "      <th>4</th>\n",
       "      <td>The selection on the menu was great and so wer...</td>\n",
       "      <td>1</td>\n",
       "      <td>[selection, menu, great, prices, .]</td>\n",
       "      <td>the select on the menu wa great and so were th...</td>\n",
       "      <td>The selection on the menu be great and so be t...</td>\n",
       "      <td>The selection on the menu was great and so wer...</td>\n",
       "      <td>The selection on the menu was great and so wer...</td>\n",
       "    </tr>\n",
       "    <tr>\n",
       "      <th>...</th>\n",
       "      <td>...</td>\n",
       "      <td>...</td>\n",
       "      <td>...</td>\n",
       "      <td>...</td>\n",
       "      <td>...</td>\n",
       "      <td>...</td>\n",
       "      <td>...</td>\n",
       "    </tr>\n",
       "    <tr>\n",
       "      <th>995</th>\n",
       "      <td>I think food should have flavor and texture an...</td>\n",
       "      <td>0</td>\n",
       "      <td>[think, food, flavor, texture, lacking, .]</td>\n",
       "      <td>i think food should have flavor and textur and...</td>\n",
       "      <td>I think food should have flavor and texture an...</td>\n",
       "      <td>I think food should have flavor and texture an...</td>\n",
       "      <td>I think food should have flavor and texture an...</td>\n",
       "    </tr>\n",
       "    <tr>\n",
       "      <th>996</th>\n",
       "      <td>Appetite instantly gone.</td>\n",
       "      <td>0</td>\n",
       "      <td>[appetite, instantly, gone, .]</td>\n",
       "      <td>appetit instantli gone .</td>\n",
       "      <td>Appetite instantly go .</td>\n",
       "      <td>Appetite instantly gone.</td>\n",
       "      <td>Appetite instantly gone</td>\n",
       "    </tr>\n",
       "    <tr>\n",
       "      <th>997</th>\n",
       "      <td>Overall I was not impressed and would not go b...</td>\n",
       "      <td>0</td>\n",
       "      <td>[overall, impressed, would, go, back, .]</td>\n",
       "      <td>overal i wa not impress and would not go back .</td>\n",
       "      <td>Overall I be not impress and would not go back .</td>\n",
       "      <td>Overall I was not impressed and would not go b...</td>\n",
       "      <td>Overall I was not impressed and would not go back</td>\n",
       "    </tr>\n",
       "    <tr>\n",
       "      <th>998</th>\n",
       "      <td>The whole experience was underwhelming, and I ...</td>\n",
       "      <td>0</td>\n",
       "      <td>[whole, experience, underwhelming, ,, think, '...</td>\n",
       "      <td>the whole experi wa underwhelm , and i think w...</td>\n",
       "      <td>The whole experience be underwhelming , and I ...</td>\n",
       "      <td>The whole experience was underwhelming, and I ...</td>\n",
       "      <td>The whole experience was underwhelming and I t...</td>\n",
       "    </tr>\n",
       "    <tr>\n",
       "      <th>999</th>\n",
       "      <td>Then, as if I hadn't wasted enough of my life ...</td>\n",
       "      <td>0</td>\n",
       "      <td>[,, n't, wasted, enough, life, ,, poured, salt...</td>\n",
       "      <td>then , as if i had n't wast enough of my life ...</td>\n",
       "      <td>Then , as if I have n't waste enough of my lif...</td>\n",
       "      <td>Then, as if I hadn't wasted enough of my life ...</td>\n",
       "      <td>Then as if I hadnt wasted enough of my life th...</td>\n",
       "    </tr>\n",
       "  </tbody>\n",
       "</table>\n",
       "<p>1000 rows × 7 columns</p>\n",
       "</div>"
      ],
      "text/plain": [
       "                                                Review  Liked  \\\n",
       "0                             Wow... Loved this place.      1   \n",
       "1                                   Crust is not good.      0   \n",
       "2            Not tasty and the texture was just nasty.      0   \n",
       "3    Stopped by during the late May bank holiday of...      1   \n",
       "4    The selection on the menu was great and so wer...      1   \n",
       "..                                                 ...    ...   \n",
       "995  I think food should have flavor and texture an...      0   \n",
       "996                           Appetite instantly gone.      0   \n",
       "997  Overall I was not impressed and would not go b...      0   \n",
       "998  The whole experience was underwhelming, and I ...      0   \n",
       "999  Then, as if I hadn't wasted enough of my life ...      0   \n",
       "\n",
       "                                                Tokens  \\\n",
       "0                          [wow, ..., loved, place, .]   \n",
       "1                                     [crust, good, .]   \n",
       "2                           [tasty, texture, nasty, .]   \n",
       "3    [stopped, late, may, bank, holiday, rick, stev...   \n",
       "4                  [selection, menu, great, prices, .]   \n",
       "..                                                 ...   \n",
       "995         [think, food, flavor, texture, lacking, .]   \n",
       "996                     [appetite, instantly, gone, .]   \n",
       "997           [overall, impressed, would, go, back, .]   \n",
       "998  [whole, experience, underwhelming, ,, think, '...   \n",
       "999  [,, n't, wasted, enough, life, ,, poured, salt...   \n",
       "\n",
       "                                               Stemmed  \\\n",
       "0                             wow ... love thi place .   \n",
       "1                                  crust is not good .   \n",
       "2             not tasti and the textur wa just nasti .   \n",
       "3    stop by dure the late may bank holiday off ric...   \n",
       "4    the select on the menu wa great and so were th...   \n",
       "..                                                 ...   \n",
       "995  i think food should have flavor and textur and...   \n",
       "996                           appetit instantli gone .   \n",
       "997    overal i wa not impress and would not go back .   \n",
       "998  the whole experi wa underwhelm , and i think w...   \n",
       "999  then , as if i had n't wast enough of my life ...   \n",
       "\n",
       "                                            Lemmatized  \\\n",
       "0                           Wow ... Loved this place .   \n",
       "1                                  Crust be not good .   \n",
       "2            Not tasty and the texture be just nasty .   \n",
       "3    Stopped by during the late May bank holiday of...   \n",
       "4    The selection on the menu be great and so be t...   \n",
       "..                                                 ...   \n",
       "995  I think food should have flavor and texture an...   \n",
       "996                            Appetite instantly go .   \n",
       "997   Overall I be not impress and would not go back .   \n",
       "998  The whole experience be underwhelming , and I ...   \n",
       "999  Then , as if I have n't waste enough of my lif...   \n",
       "\n",
       "                                                No_num  \\\n",
       "0                             Wow... Loved this place.   \n",
       "1                                   Crust is not good.   \n",
       "2            Not tasty and the texture was just nasty.   \n",
       "3    Stopped by during the late May bank holiday of...   \n",
       "4    The selection on the menu was great and so wer...   \n",
       "..                                                 ...   \n",
       "995  I think food should have flavor and texture an...   \n",
       "996                           Appetite instantly gone.   \n",
       "997  Overall I was not impressed and would not go b...   \n",
       "998  The whole experience was underwhelming, and I ...   \n",
       "999  Then, as if I hadn't wasted enough of my life ...   \n",
       "\n",
       "                                               Cleaned  \n",
       "0                                 Wow Loved this place  \n",
       "1                                    Crust is not good  \n",
       "2             Not tasty and the texture was just nasty  \n",
       "3    Stopped by during the late May bank holiday of...  \n",
       "4    The selection on the menu was great and so wer...  \n",
       "..                                                 ...  \n",
       "995  I think food should have flavor and texture an...  \n",
       "996                            Appetite instantly gone  \n",
       "997  Overall I was not impressed and would not go back  \n",
       "998  The whole experience was underwhelming and I t...  \n",
       "999  Then as if I hadnt wasted enough of my life th...  \n",
       "\n",
       "[1000 rows x 7 columns]"
      ]
     },
     "execution_count": 42,
     "metadata": {},
     "output_type": "execute_result"
    }
   ],
   "source": [
    "df"
   ]
  },
  {
   "cell_type": "code",
   "execution_count": 43,
   "id": "279cffff",
   "metadata": {},
   "outputs": [],
   "source": [
    "#Normalization \n",
    "import contractions\n",
    "df['Expanded']=df['Review'].apply(contractions.fix)"
   ]
  },
  {
   "cell_type": "code",
   "execution_count": 44,
   "id": "1b555e2e",
   "metadata": {},
   "outputs": [
    {
     "data": {
      "text/plain": [
       "0                               Wow... Loved this place.\n",
       "1                                     Crust is not good.\n",
       "2              Not tasty and the texture was just nasty.\n",
       "3      Stopped by during the late May bank holiday of...\n",
       "4      The selection on the menu was great and so wer...\n",
       "                             ...                        \n",
       "995    I think food should have flavor and texture an...\n",
       "996                             Appetite instantly gone.\n",
       "997    Overall I was not impressed and would not go b...\n",
       "998    The whole experience was underwhelming, and I ...\n",
       "999    Then, as if I had not wasted enough of my life...\n",
       "Name: Expanded, Length: 1000, dtype: object"
      ]
     },
     "execution_count": 44,
     "metadata": {},
     "output_type": "execute_result"
    }
   ],
   "source": [
    "df['Expanded']"
   ]
  },
  {
   "cell_type": "code",
   "execution_count": 45,
   "id": "932bacf5",
   "metadata": {},
   "outputs": [],
   "source": [
    "#Removing Emojis"
   ]
  },
  {
   "cell_type": "code",
   "execution_count": 46,
   "id": "48af8ec6",
   "metadata": {},
   "outputs": [],
   "source": [
    "import emoji\n",
    "df['Emoji']=df['Review'].apply(emoji.demojize)"
   ]
  },
  {
   "cell_type": "code",
   "execution_count": 47,
   "id": "c13ee97d",
   "metadata": {
    "scrolled": true
   },
   "outputs": [
    {
     "data": {
      "text/plain": [
       "0                               Wow... Loved this place.\n",
       "1                                     Crust is not good.\n",
       "2              Not tasty and the texture was just nasty.\n",
       "3      Stopped by during the late May bank holiday of...\n",
       "4      The selection on the menu was great and so wer...\n",
       "                             ...                        \n",
       "995    I think food should have flavor and texture an...\n",
       "996                             Appetite instantly gone.\n",
       "997    Overall I was not impressed and would not go b...\n",
       "998    The whole experience was underwhelming, and I ...\n",
       "999    Then, as if I hadn't wasted enough of my life ...\n",
       "Name: Emoji, Length: 1000, dtype: object"
      ]
     },
     "execution_count": 47,
     "metadata": {},
     "output_type": "execute_result"
    }
   ],
   "source": [
    "df['Emoji']"
   ]
  },
  {
   "cell_type": "code",
   "execution_count": 48,
   "id": "fc2f8c23",
   "metadata": {},
   "outputs": [],
   "source": [
    "from bs4 import BeautifulSoup"
   ]
  },
  {
   "cell_type": "code",
   "execution_count": 49,
   "id": "ec937dca",
   "metadata": {},
   "outputs": [
    {
     "name": "stderr",
     "output_type": "stream",
     "text": [
      "C:\\Users\\HEMANTH KUMAR\\AppData\\Local\\Temp\\ipykernel_16280\\2384465390.py:1: MarkupResemblesLocatorWarning: The input looks more like a filename than markup. You may want to open this file and pass the filehandle into Beautiful Soup.\n",
      "  df['Clean']=df['Review'].apply(lambda x:BeautifulSoup(x,'html.parser').get_text())\n"
     ]
    }
   ],
   "source": [
    "df['Clean']=df['Review'].apply(lambda x:BeautifulSoup(x,'html.parser').get_text())"
   ]
  },
  {
   "cell_type": "code",
   "execution_count": 50,
   "id": "185bfa4c",
   "metadata": {},
   "outputs": [
    {
     "data": {
      "text/plain": [
       "0                               Wow... Loved this place.\n",
       "1                                     Crust is not good.\n",
       "2              Not tasty and the texture was just nasty.\n",
       "3      Stopped by during the late May bank holiday of...\n",
       "4      The selection on the menu was great and so wer...\n",
       "                             ...                        \n",
       "995    I think food should have flavor and texture an...\n",
       "996                             Appetite instantly gone.\n",
       "997    Overall I was not impressed and would not go b...\n",
       "998    The whole experience was underwhelming, and I ...\n",
       "999    Then, as if I hadn't wasted enough of my life ...\n",
       "Name: Clean, Length: 1000, dtype: object"
      ]
     },
     "execution_count": 50,
     "metadata": {},
     "output_type": "execute_result"
    }
   ],
   "source": [
    "df['Clean']"
   ]
  },
  {
   "cell_type": "code",
   "execution_count": 51,
   "id": "0cd605b9",
   "metadata": {},
   "outputs": [],
   "source": [
    "##### TF IDF vectorizer -it converts text document into matrices format\n",
    "##### TF=Term frequency ,IDF=Inverse Document Frequency"
   ]
  },
  {
   "cell_type": "code",
   "execution_count": 52,
   "id": "e492725d",
   "metadata": {},
   "outputs": [],
   "source": [
    "from sklearn.feature_extraction.text import TfidfVectorizer"
   ]
  },
  {
   "cell_type": "code",
   "execution_count": 53,
   "id": "6faf2736",
   "metadata": {},
   "outputs": [],
   "source": [
    "vectorizer=TfidfVectorizer()"
   ]
  },
  {
   "cell_type": "code",
   "execution_count": 54,
   "id": "cbd3b867",
   "metadata": {
    "scrolled": true
   },
   "outputs": [
    {
     "data": {
      "text/plain": [
       "array([[0., 0., 0., ..., 0., 0., 0.],\n",
       "       [0., 0., 0., ..., 0., 0., 0.],\n",
       "       [0., 0., 0., ..., 0., 0., 0.],\n",
       "       ...,\n",
       "       [0., 0., 0., ..., 0., 0., 0.],\n",
       "       [0., 0., 0., ..., 0., 0., 0.],\n",
       "       [0., 0., 0., ..., 0., 0., 0.]])"
      ]
     },
     "execution_count": 54,
     "metadata": {},
     "output_type": "execute_result"
    }
   ],
   "source": [
    "x=vectorizer.fit_transform(df['Review'])\n",
    "x.toarray()"
   ]
  },
  {
   "cell_type": "code",
   "execution_count": 55,
   "id": "a430c86b",
   "metadata": {},
   "outputs": [],
   "source": [
    "from sklearn.model_selection import train_test_split\n",
    "from sklearn.naive_bayes import MultinomialNB\n",
    "from sklearn.linear_model import LogisticRegression\n",
    "from sklearn.metrics import accuracy_score,classification_report"
   ]
  },
  {
   "cell_type": "code",
   "execution_count": 56,
   "id": "bcf5c3fd",
   "metadata": {},
   "outputs": [],
   "source": [
    "vectorizer=TfidfVectorizer()"
   ]
  },
  {
   "cell_type": "code",
   "execution_count": 57,
   "id": "2906839a",
   "metadata": {},
   "outputs": [],
   "source": [
    "X=vectorizer.fit_transform(df['Review'])\n",
    "y=df['Liked']"
   ]
  },
  {
   "cell_type": "code",
   "execution_count": 58,
   "id": "56a88beb",
   "metadata": {},
   "outputs": [],
   "source": [
    "x_train,x_test,y_train,y_test=train_test_split(x,y,test_size=0.3,random_state=42)"
   ]
  },
  {
   "cell_type": "code",
   "execution_count": 59,
   "id": "65312107",
   "metadata": {},
   "outputs": [
    {
     "name": "stdout",
     "output_type": "stream",
     "text": [
      "  (0, 63)\t0.08942487588523815\n",
      "  (0, 1778)\t0.07703016388246013\n",
      "  (0, 1963)\t0.32615800998126926\n",
      "  (0, 1812)\t0.11540291073969666\n",
      "  (0, 1225)\t0.19721792376581446\n",
      "  (0, 1743)\t0.2615223460316776\n",
      "  (0, 1784)\t0.18491853710864656\n",
      "  (0, 699)\t0.13997573358295093\n",
      "  (0, 155)\t0.15836125038597593\n",
      "  (0, 1952)\t0.3059451621103631\n",
      "  (0, 1125)\t0.21699665215388375\n",
      "  (0, 54)\t0.27885735790124266\n",
      "  (0, 1550)\t0.2615223460316776\n",
      "  (0, 1924)\t0.2492229593745097\n",
      "  (0, 1926)\t0.2615223460316776\n",
      "  (0, 694)\t0.2693172124403987\n",
      "  (0, 1795)\t0.30849175642797566\n",
      "  (0, 1889)\t0.30849175642797566\n",
      "  (1, 1161)\t0.23417402978179477\n",
      "  (1, 579)\t0.40613997992782436\n",
      "  (1, 1029)\t0.3397566532490546\n",
      "  (1, 1747)\t0.36824322551302624\n",
      "  (1, 256)\t0.40613997992782436\n",
      "  (1, 489)\t0.38444638515946505\n",
      "  (1, 517)\t0.4652165920931802\n",
      "  :\t:\n",
      "  (697, 1911)\t0.46801741316672485\n",
      "  (698, 63)\t0.09941818111459709\n",
      "  (698, 1938)\t0.2228482091437908\n",
      "  (698, 944)\t0.14171411086951774\n",
      "  (698, 1776)\t0.1774987010047913\n",
      "  (698, 1206)\t0.14757149730549846\n",
      "  (698, 890)\t0.2907476885588123\n",
      "  (698, 1320)\t0.29941363785664343\n",
      "  (698, 122)\t0.34296597014320795\n",
      "  (698, 18)\t0.34296597014320795\n",
      "  (698, 406)\t0.32369375609078\n",
      "  (698, 17)\t0.34296597014320795\n",
      "  (698, 787)\t0.34296597014320795\n",
      "  (698, 649)\t0.34296597014320795\n",
      "  (699, 1778)\t0.11340570263380041\n",
      "  (699, 944)\t0.1876634520751288\n",
      "  (699, 2025)\t0.24443151499428203\n",
      "  (699, 915)\t0.20607571915436035\n",
      "  (699, 699)\t0.20607571915436035\n",
      "  (699, 245)\t0.341391142036711\n",
      "  (699, 179)\t0.2837174144687825\n",
      "  (699, 1835)\t0.36691217304779694\n",
      "  (699, 1371)\t0.36691217304779694\n",
      "  (699, 279)\t0.4286481233974752\n",
      "  (699, 158)\t0.3964954268406326   (0, 1197)\t0.3871651195928689\n",
      "  (0, 2025)\t0.2813572169130126\n",
      "  (0, 756)\t0.2972015121223705\n",
      "  (0, 903)\t0.3290341542100991\n",
      "  (0, 850)\t0.2788148086554363\n",
      "  (0, 830)\t0.5227794349477328\n",
      "  (0, 762)\t0.4725600893930699\n",
      "  (1, 1759)\t0.3084469642914332\n",
      "  (1, 63)\t0.11894896563501532\n",
      "  (1, 1778)\t0.1024620747393945\n",
      "  (1, 1571)\t0.19644751772739483\n",
      "  (1, 1812)\t0.15350378435384465\n",
      "  (1, 915)\t0.18618945297796038\n",
      "  (1, 696)\t0.17703009835601147\n",
      "  (1, 716)\t0.26026227204972024\n",
      "  (1, 1633)\t0.27939699659872946\n",
      "  (1, 1851)\t0.32480705768080226\n",
      "  (1, 621)\t0.2766223654390893\n",
      "  (1, 1781)\t0.29575708998809846\n",
      "  (1, 45)\t0.4103419207551196\n",
      "  (1, 1658)\t0.4103419207551196\n",
      "  (2, 942)\t0.18119937686185955\n",
      "  (2, 63)\t0.13107653636311292\n",
      "  (2, 1778)\t0.11290870663497979\n",
      "  (2, 944)\t0.18684102443136755\n",
      "  :\t:\n",
      "  (298, 1015)\t0.17545596426959578\n",
      "  (298, 1503)\t0.3086282071852376\n",
      "  (298, 2025)\t0.16610212190763163\n",
      "  (298, 394)\t0.2170926331870645\n",
      "  (298, 1764)\t0.2550446407699189\n",
      "  (298, 1786)\t0.16687281501605514\n",
      "  (298, 804)\t0.15779762061220634\n",
      "  (298, 166)\t0.2041633819388914\n",
      "  (298, 1060)\t0.21464783577429802\n",
      "  (298, 1881)\t0.1989193973753973\n",
      "  (298, 43)\t0.3086282071852376\n",
      "  (298, 1206)\t0.1327966346807515\n",
      "  (298, 1807)\t0.17840694877702\n",
      "  (298, 172)\t0.2224461499750656\n",
      "  (298, 968)\t0.26163802147976783\n",
      "  (298, 1864)\t0.2789807008978085\n",
      "  (298, 1936)\t0.3086282071852376\n",
      "  (299, 942)\t0.4083256241495382\n",
      "  (299, 63)\t0.14768789343748975\n",
      "  (299, 1778)\t0.25443530163899536\n",
      "  (299, 716)\t0.3231435136495468\n",
      "  (299, 1672)\t0.3505230700388401\n",
      "  (299, 55)\t0.36265716506218465\n",
      "  (299, 339)\t0.3958434331573115\n",
      "  (299, 959)\t0.4808541900481103 541    0\n",
      "440    0\n",
      "482    0\n",
      "422    0\n",
      "778    0\n",
      "      ..\n",
      "106    1\n",
      "270    1\n",
      "860    1\n",
      "435    0\n",
      "102    1\n",
      "Name: Liked, Length: 700, dtype: int64 521    1\n",
      "737    1\n",
      "740    1\n",
      "660    1\n",
      "411    1\n",
      "      ..\n",
      "468    1\n",
      "935    0\n",
      "428    0\n",
      "7      0\n",
      "155    1\n",
      "Name: Liked, Length: 300, dtype: int64\n"
     ]
    }
   ],
   "source": [
    "print(x_train,x_test,y_train,y_test)"
   ]
  },
  {
   "cell_type": "code",
   "execution_count": 60,
   "id": "0d53b01c",
   "metadata": {},
   "outputs": [
    {
     "name": "stdout",
     "output_type": "stream",
     "text": [
      "(300, 2033)\n"
     ]
    }
   ],
   "source": [
    "print(x_test.shape)"
   ]
  },
  {
   "cell_type": "code",
   "execution_count": 61,
   "id": "89819cfb",
   "metadata": {},
   "outputs": [
    {
     "name": "stdout",
     "output_type": "stream",
     "text": [
      "(300,)\n"
     ]
    }
   ],
   "source": [
    "print(y_test.shape)"
   ]
  },
  {
   "cell_type": "code",
   "execution_count": 62,
   "id": "25967adf",
   "metadata": {},
   "outputs": [
    {
     "data": {
      "text/html": [
       "<style>#sk-container-id-1 {\n",
       "  /* Definition of color scheme common for light and dark mode */\n",
       "  --sklearn-color-text: black;\n",
       "  --sklearn-color-line: gray;\n",
       "  /* Definition of color scheme for unfitted estimators */\n",
       "  --sklearn-color-unfitted-level-0: #fff5e6;\n",
       "  --sklearn-color-unfitted-level-1: #f6e4d2;\n",
       "  --sklearn-color-unfitted-level-2: #ffe0b3;\n",
       "  --sklearn-color-unfitted-level-3: chocolate;\n",
       "  /* Definition of color scheme for fitted estimators */\n",
       "  --sklearn-color-fitted-level-0: #f0f8ff;\n",
       "  --sklearn-color-fitted-level-1: #d4ebff;\n",
       "  --sklearn-color-fitted-level-2: #b3dbfd;\n",
       "  --sklearn-color-fitted-level-3: cornflowerblue;\n",
       "\n",
       "  /* Specific color for light theme */\n",
       "  --sklearn-color-text-on-default-background: var(--sg-text-color, var(--theme-code-foreground, var(--jp-content-font-color1, black)));\n",
       "  --sklearn-color-background: var(--sg-background-color, var(--theme-background, var(--jp-layout-color0, white)));\n",
       "  --sklearn-color-border-box: var(--sg-text-color, var(--theme-code-foreground, var(--jp-content-font-color1, black)));\n",
       "  --sklearn-color-icon: #696969;\n",
       "\n",
       "  @media (prefers-color-scheme: dark) {\n",
       "    /* Redefinition of color scheme for dark theme */\n",
       "    --sklearn-color-text-on-default-background: var(--sg-text-color, var(--theme-code-foreground, var(--jp-content-font-color1, white)));\n",
       "    --sklearn-color-background: var(--sg-background-color, var(--theme-background, var(--jp-layout-color0, #111)));\n",
       "    --sklearn-color-border-box: var(--sg-text-color, var(--theme-code-foreground, var(--jp-content-font-color1, white)));\n",
       "    --sklearn-color-icon: #878787;\n",
       "  }\n",
       "}\n",
       "\n",
       "#sk-container-id-1 {\n",
       "  color: var(--sklearn-color-text);\n",
       "}\n",
       "\n",
       "#sk-container-id-1 pre {\n",
       "  padding: 0;\n",
       "}\n",
       "\n",
       "#sk-container-id-1 input.sk-hidden--visually {\n",
       "  border: 0;\n",
       "  clip: rect(1px 1px 1px 1px);\n",
       "  clip: rect(1px, 1px, 1px, 1px);\n",
       "  height: 1px;\n",
       "  margin: -1px;\n",
       "  overflow: hidden;\n",
       "  padding: 0;\n",
       "  position: absolute;\n",
       "  width: 1px;\n",
       "}\n",
       "\n",
       "#sk-container-id-1 div.sk-dashed-wrapped {\n",
       "  border: 1px dashed var(--sklearn-color-line);\n",
       "  margin: 0 0.4em 0.5em 0.4em;\n",
       "  box-sizing: border-box;\n",
       "  padding-bottom: 0.4em;\n",
       "  background-color: var(--sklearn-color-background);\n",
       "}\n",
       "\n",
       "#sk-container-id-1 div.sk-container {\n",
       "  /* jupyter's `normalize.less` sets `[hidden] { display: none; }`\n",
       "     but bootstrap.min.css set `[hidden] { display: none !important; }`\n",
       "     so we also need the `!important` here to be able to override the\n",
       "     default hidden behavior on the sphinx rendered scikit-learn.org.\n",
       "     See: https://github.com/scikit-learn/scikit-learn/issues/21755 */\n",
       "  display: inline-block !important;\n",
       "  position: relative;\n",
       "}\n",
       "\n",
       "#sk-container-id-1 div.sk-text-repr-fallback {\n",
       "  display: none;\n",
       "}\n",
       "\n",
       "div.sk-parallel-item,\n",
       "div.sk-serial,\n",
       "div.sk-item {\n",
       "  /* draw centered vertical line to link estimators */\n",
       "  background-image: linear-gradient(var(--sklearn-color-text-on-default-background), var(--sklearn-color-text-on-default-background));\n",
       "  background-size: 2px 100%;\n",
       "  background-repeat: no-repeat;\n",
       "  background-position: center center;\n",
       "}\n",
       "\n",
       "/* Parallel-specific style estimator block */\n",
       "\n",
       "#sk-container-id-1 div.sk-parallel-item::after {\n",
       "  content: \"\";\n",
       "  width: 100%;\n",
       "  border-bottom: 2px solid var(--sklearn-color-text-on-default-background);\n",
       "  flex-grow: 1;\n",
       "}\n",
       "\n",
       "#sk-container-id-1 div.sk-parallel {\n",
       "  display: flex;\n",
       "  align-items: stretch;\n",
       "  justify-content: center;\n",
       "  background-color: var(--sklearn-color-background);\n",
       "  position: relative;\n",
       "}\n",
       "\n",
       "#sk-container-id-1 div.sk-parallel-item {\n",
       "  display: flex;\n",
       "  flex-direction: column;\n",
       "}\n",
       "\n",
       "#sk-container-id-1 div.sk-parallel-item:first-child::after {\n",
       "  align-self: flex-end;\n",
       "  width: 50%;\n",
       "}\n",
       "\n",
       "#sk-container-id-1 div.sk-parallel-item:last-child::after {\n",
       "  align-self: flex-start;\n",
       "  width: 50%;\n",
       "}\n",
       "\n",
       "#sk-container-id-1 div.sk-parallel-item:only-child::after {\n",
       "  width: 0;\n",
       "}\n",
       "\n",
       "/* Serial-specific style estimator block */\n",
       "\n",
       "#sk-container-id-1 div.sk-serial {\n",
       "  display: flex;\n",
       "  flex-direction: column;\n",
       "  align-items: center;\n",
       "  background-color: var(--sklearn-color-background);\n",
       "  padding-right: 1em;\n",
       "  padding-left: 1em;\n",
       "}\n",
       "\n",
       "\n",
       "/* Toggleable style: style used for estimator/Pipeline/ColumnTransformer box that is\n",
       "clickable and can be expanded/collapsed.\n",
       "- Pipeline and ColumnTransformer use this feature and define the default style\n",
       "- Estimators will overwrite some part of the style using the `sk-estimator` class\n",
       "*/\n",
       "\n",
       "/* Pipeline and ColumnTransformer style (default) */\n",
       "\n",
       "#sk-container-id-1 div.sk-toggleable {\n",
       "  /* Default theme specific background. It is overwritten whether we have a\n",
       "  specific estimator or a Pipeline/ColumnTransformer */\n",
       "  background-color: var(--sklearn-color-background);\n",
       "}\n",
       "\n",
       "/* Toggleable label */\n",
       "#sk-container-id-1 label.sk-toggleable__label {\n",
       "  cursor: pointer;\n",
       "  display: block;\n",
       "  width: 100%;\n",
       "  margin-bottom: 0;\n",
       "  padding: 0.5em;\n",
       "  box-sizing: border-box;\n",
       "  text-align: center;\n",
       "}\n",
       "\n",
       "#sk-container-id-1 label.sk-toggleable__label-arrow:before {\n",
       "  /* Arrow on the left of the label */\n",
       "  content: \"▸\";\n",
       "  float: left;\n",
       "  margin-right: 0.25em;\n",
       "  color: var(--sklearn-color-icon);\n",
       "}\n",
       "\n",
       "#sk-container-id-1 label.sk-toggleable__label-arrow:hover:before {\n",
       "  color: var(--sklearn-color-text);\n",
       "}\n",
       "\n",
       "/* Toggleable content - dropdown */\n",
       "\n",
       "#sk-container-id-1 div.sk-toggleable__content {\n",
       "  max-height: 0;\n",
       "  max-width: 0;\n",
       "  overflow: hidden;\n",
       "  text-align: left;\n",
       "  /* unfitted */\n",
       "  background-color: var(--sklearn-color-unfitted-level-0);\n",
       "}\n",
       "\n",
       "#sk-container-id-1 div.sk-toggleable__content.fitted {\n",
       "  /* fitted */\n",
       "  background-color: var(--sklearn-color-fitted-level-0);\n",
       "}\n",
       "\n",
       "#sk-container-id-1 div.sk-toggleable__content pre {\n",
       "  margin: 0.2em;\n",
       "  border-radius: 0.25em;\n",
       "  color: var(--sklearn-color-text);\n",
       "  /* unfitted */\n",
       "  background-color: var(--sklearn-color-unfitted-level-0);\n",
       "}\n",
       "\n",
       "#sk-container-id-1 div.sk-toggleable__content.fitted pre {\n",
       "  /* unfitted */\n",
       "  background-color: var(--sklearn-color-fitted-level-0);\n",
       "}\n",
       "\n",
       "#sk-container-id-1 input.sk-toggleable__control:checked~div.sk-toggleable__content {\n",
       "  /* Expand drop-down */\n",
       "  max-height: 200px;\n",
       "  max-width: 100%;\n",
       "  overflow: auto;\n",
       "}\n",
       "\n",
       "#sk-container-id-1 input.sk-toggleable__control:checked~label.sk-toggleable__label-arrow:before {\n",
       "  content: \"▾\";\n",
       "}\n",
       "\n",
       "/* Pipeline/ColumnTransformer-specific style */\n",
       "\n",
       "#sk-container-id-1 div.sk-label input.sk-toggleable__control:checked~label.sk-toggleable__label {\n",
       "  color: var(--sklearn-color-text);\n",
       "  background-color: var(--sklearn-color-unfitted-level-2);\n",
       "}\n",
       "\n",
       "#sk-container-id-1 div.sk-label.fitted input.sk-toggleable__control:checked~label.sk-toggleable__label {\n",
       "  background-color: var(--sklearn-color-fitted-level-2);\n",
       "}\n",
       "\n",
       "/* Estimator-specific style */\n",
       "\n",
       "/* Colorize estimator box */\n",
       "#sk-container-id-1 div.sk-estimator input.sk-toggleable__control:checked~label.sk-toggleable__label {\n",
       "  /* unfitted */\n",
       "  background-color: var(--sklearn-color-unfitted-level-2);\n",
       "}\n",
       "\n",
       "#sk-container-id-1 div.sk-estimator.fitted input.sk-toggleable__control:checked~label.sk-toggleable__label {\n",
       "  /* fitted */\n",
       "  background-color: var(--sklearn-color-fitted-level-2);\n",
       "}\n",
       "\n",
       "#sk-container-id-1 div.sk-label label.sk-toggleable__label,\n",
       "#sk-container-id-1 div.sk-label label {\n",
       "  /* The background is the default theme color */\n",
       "  color: var(--sklearn-color-text-on-default-background);\n",
       "}\n",
       "\n",
       "/* On hover, darken the color of the background */\n",
       "#sk-container-id-1 div.sk-label:hover label.sk-toggleable__label {\n",
       "  color: var(--sklearn-color-text);\n",
       "  background-color: var(--sklearn-color-unfitted-level-2);\n",
       "}\n",
       "\n",
       "/* Label box, darken color on hover, fitted */\n",
       "#sk-container-id-1 div.sk-label.fitted:hover label.sk-toggleable__label.fitted {\n",
       "  color: var(--sklearn-color-text);\n",
       "  background-color: var(--sklearn-color-fitted-level-2);\n",
       "}\n",
       "\n",
       "/* Estimator label */\n",
       "\n",
       "#sk-container-id-1 div.sk-label label {\n",
       "  font-family: monospace;\n",
       "  font-weight: bold;\n",
       "  display: inline-block;\n",
       "  line-height: 1.2em;\n",
       "}\n",
       "\n",
       "#sk-container-id-1 div.sk-label-container {\n",
       "  text-align: center;\n",
       "}\n",
       "\n",
       "/* Estimator-specific */\n",
       "#sk-container-id-1 div.sk-estimator {\n",
       "  font-family: monospace;\n",
       "  border: 1px dotted var(--sklearn-color-border-box);\n",
       "  border-radius: 0.25em;\n",
       "  box-sizing: border-box;\n",
       "  margin-bottom: 0.5em;\n",
       "  /* unfitted */\n",
       "  background-color: var(--sklearn-color-unfitted-level-0);\n",
       "}\n",
       "\n",
       "#sk-container-id-1 div.sk-estimator.fitted {\n",
       "  /* fitted */\n",
       "  background-color: var(--sklearn-color-fitted-level-0);\n",
       "}\n",
       "\n",
       "/* on hover */\n",
       "#sk-container-id-1 div.sk-estimator:hover {\n",
       "  /* unfitted */\n",
       "  background-color: var(--sklearn-color-unfitted-level-2);\n",
       "}\n",
       "\n",
       "#sk-container-id-1 div.sk-estimator.fitted:hover {\n",
       "  /* fitted */\n",
       "  background-color: var(--sklearn-color-fitted-level-2);\n",
       "}\n",
       "\n",
       "/* Specification for estimator info (e.g. \"i\" and \"?\") */\n",
       "\n",
       "/* Common style for \"i\" and \"?\" */\n",
       "\n",
       ".sk-estimator-doc-link,\n",
       "a:link.sk-estimator-doc-link,\n",
       "a:visited.sk-estimator-doc-link {\n",
       "  float: right;\n",
       "  font-size: smaller;\n",
       "  line-height: 1em;\n",
       "  font-family: monospace;\n",
       "  background-color: var(--sklearn-color-background);\n",
       "  border-radius: 1em;\n",
       "  height: 1em;\n",
       "  width: 1em;\n",
       "  text-decoration: none !important;\n",
       "  margin-left: 1ex;\n",
       "  /* unfitted */\n",
       "  border: var(--sklearn-color-unfitted-level-1) 1pt solid;\n",
       "  color: var(--sklearn-color-unfitted-level-1);\n",
       "}\n",
       "\n",
       ".sk-estimator-doc-link.fitted,\n",
       "a:link.sk-estimator-doc-link.fitted,\n",
       "a:visited.sk-estimator-doc-link.fitted {\n",
       "  /* fitted */\n",
       "  border: var(--sklearn-color-fitted-level-1) 1pt solid;\n",
       "  color: var(--sklearn-color-fitted-level-1);\n",
       "}\n",
       "\n",
       "/* On hover */\n",
       "div.sk-estimator:hover .sk-estimator-doc-link:hover,\n",
       ".sk-estimator-doc-link:hover,\n",
       "div.sk-label-container:hover .sk-estimator-doc-link:hover,\n",
       ".sk-estimator-doc-link:hover {\n",
       "  /* unfitted */\n",
       "  background-color: var(--sklearn-color-unfitted-level-3);\n",
       "  color: var(--sklearn-color-background);\n",
       "  text-decoration: none;\n",
       "}\n",
       "\n",
       "div.sk-estimator.fitted:hover .sk-estimator-doc-link.fitted:hover,\n",
       ".sk-estimator-doc-link.fitted:hover,\n",
       "div.sk-label-container:hover .sk-estimator-doc-link.fitted:hover,\n",
       ".sk-estimator-doc-link.fitted:hover {\n",
       "  /* fitted */\n",
       "  background-color: var(--sklearn-color-fitted-level-3);\n",
       "  color: var(--sklearn-color-background);\n",
       "  text-decoration: none;\n",
       "}\n",
       "\n",
       "/* Span, style for the box shown on hovering the info icon */\n",
       ".sk-estimator-doc-link span {\n",
       "  display: none;\n",
       "  z-index: 9999;\n",
       "  position: relative;\n",
       "  font-weight: normal;\n",
       "  right: .2ex;\n",
       "  padding: .5ex;\n",
       "  margin: .5ex;\n",
       "  width: min-content;\n",
       "  min-width: 20ex;\n",
       "  max-width: 50ex;\n",
       "  color: var(--sklearn-color-text);\n",
       "  box-shadow: 2pt 2pt 4pt #999;\n",
       "  /* unfitted */\n",
       "  background: var(--sklearn-color-unfitted-level-0);\n",
       "  border: .5pt solid var(--sklearn-color-unfitted-level-3);\n",
       "}\n",
       "\n",
       ".sk-estimator-doc-link.fitted span {\n",
       "  /* fitted */\n",
       "  background: var(--sklearn-color-fitted-level-0);\n",
       "  border: var(--sklearn-color-fitted-level-3);\n",
       "}\n",
       "\n",
       ".sk-estimator-doc-link:hover span {\n",
       "  display: block;\n",
       "}\n",
       "\n",
       "/* \"?\"-specific style due to the `<a>` HTML tag */\n",
       "\n",
       "#sk-container-id-1 a.estimator_doc_link {\n",
       "  float: right;\n",
       "  font-size: 1rem;\n",
       "  line-height: 1em;\n",
       "  font-family: monospace;\n",
       "  background-color: var(--sklearn-color-background);\n",
       "  border-radius: 1rem;\n",
       "  height: 1rem;\n",
       "  width: 1rem;\n",
       "  text-decoration: none;\n",
       "  /* unfitted */\n",
       "  color: var(--sklearn-color-unfitted-level-1);\n",
       "  border: var(--sklearn-color-unfitted-level-1) 1pt solid;\n",
       "}\n",
       "\n",
       "#sk-container-id-1 a.estimator_doc_link.fitted {\n",
       "  /* fitted */\n",
       "  border: var(--sklearn-color-fitted-level-1) 1pt solid;\n",
       "  color: var(--sklearn-color-fitted-level-1);\n",
       "}\n",
       "\n",
       "/* On hover */\n",
       "#sk-container-id-1 a.estimator_doc_link:hover {\n",
       "  /* unfitted */\n",
       "  background-color: var(--sklearn-color-unfitted-level-3);\n",
       "  color: var(--sklearn-color-background);\n",
       "  text-decoration: none;\n",
       "}\n",
       "\n",
       "#sk-container-id-1 a.estimator_doc_link.fitted:hover {\n",
       "  /* fitted */\n",
       "  background-color: var(--sklearn-color-fitted-level-3);\n",
       "}\n",
       "</style><div id=\"sk-container-id-1\" class=\"sk-top-container\"><div class=\"sk-text-repr-fallback\"><pre>MultinomialNB()</pre><b>In a Jupyter environment, please rerun this cell to show the HTML representation or trust the notebook. <br />On GitHub, the HTML representation is unable to render, please try loading this page with nbviewer.org.</b></div><div class=\"sk-container\" hidden><div class=\"sk-item\"><div class=\"sk-estimator fitted sk-toggleable\"><input class=\"sk-toggleable__control sk-hidden--visually\" id=\"sk-estimator-id-1\" type=\"checkbox\" checked><label for=\"sk-estimator-id-1\" class=\"sk-toggleable__label fitted sk-toggleable__label-arrow fitted\">&nbsp;&nbsp;MultinomialNB<a class=\"sk-estimator-doc-link fitted\" rel=\"noreferrer\" target=\"_blank\" href=\"https://scikit-learn.org/1.5/modules/generated/sklearn.naive_bayes.MultinomialNB.html\">?<span>Documentation for MultinomialNB</span></a><span class=\"sk-estimator-doc-link fitted\">i<span>Fitted</span></span></label><div class=\"sk-toggleable__content fitted\"><pre>MultinomialNB()</pre></div> </div></div></div></div>"
      ],
      "text/plain": [
       "MultinomialNB()"
      ]
     },
     "execution_count": 62,
     "metadata": {},
     "output_type": "execute_result"
    }
   ],
   "source": [
    "model=MultinomialNB()\n",
    "model.fit(x_train,y_train)\n"
   ]
  },
  {
   "cell_type": "code",
   "execution_count": 63,
   "id": "eb54e3d0",
   "metadata": {},
   "outputs": [],
   "source": [
    "y_predict=model.predict(x_test)"
   ]
  },
  {
   "cell_type": "code",
   "execution_count": 64,
   "id": "0092f9ca",
   "metadata": {},
   "outputs": [],
   "source": [
    "acc=accuracy_score(y_test,y_predict)\n",
    "report=classification_report(y_test,y_predict)"
   ]
  },
  {
   "cell_type": "code",
   "execution_count": 65,
   "id": "92ae1df3",
   "metadata": {},
   "outputs": [
    {
     "name": "stdout",
     "output_type": "stream",
     "text": [
      "Accuracy:81.0\n",
      "              precision    recall  f1-score   support\n",
      "\n",
      "           0       0.81      0.82      0.81       152\n",
      "           1       0.81      0.80      0.81       148\n",
      "\n",
      "    accuracy                           0.81       300\n",
      "   macro avg       0.81      0.81      0.81       300\n",
      "weighted avg       0.81      0.81      0.81       300\n",
      "\n"
     ]
    }
   ],
   "source": [
    "print(f'Accuracy:{acc*100}')\n",
    "print(report)"
   ]
  },
  {
   "cell_type": "code",
   "execution_count": 66,
   "id": "cfee4a7d",
   "metadata": {},
   "outputs": [],
   "source": [
    "### Comparison"
   ]
  },
  {
   "cell_type": "code",
   "execution_count": 67,
   "id": "2fa3235b",
   "metadata": {},
   "outputs": [
    {
     "name": "stdout",
     "output_type": "stream",
     "text": [
      "Accuracy:80.66666666666666\n",
      "              precision    recall  f1-score   support\n",
      "\n",
      "           0       0.80      0.83      0.81       152\n",
      "           1       0.82      0.78      0.80       148\n",
      "\n",
      "    accuracy                           0.81       300\n",
      "   macro avg       0.81      0.81      0.81       300\n",
      "weighted avg       0.81      0.81      0.81       300\n",
      "\n"
     ]
    }
   ],
   "source": [
    "mod=LogisticRegression()\n",
    "mod.fit(x_train,y_train)\n",
    "y_predict=mod.predict(x_test)\n",
    "acc=accuracy_score(y_test,y_predict)\n",
    "report=classification_report(y_test,y_predict)\n",
    "print(f'Accuracy:{acc*100}')\n",
    "print(report)"
   ]
  },
  {
   "cell_type": "code",
   "execution_count": 68,
   "id": "a7db5759",
   "metadata": {},
   "outputs": [
    {
     "name": "stdout",
     "output_type": "stream",
     "text": [
      "              precision    recall  f1-score   support\n",
      "\n",
      "           0       0.80      0.83      0.81       152\n",
      "           1       0.82      0.78      0.80       148\n",
      "\n",
      "    accuracy                           0.81       300\n",
      "   macro avg       0.81      0.81      0.81       300\n",
      "weighted avg       0.81      0.81      0.81       300\n",
      "\n"
     ]
    }
   ],
   "source": [
    "print(report)"
   ]
  },
  {
   "cell_type": "code",
   "execution_count": 69,
   "id": "de2eef76",
   "metadata": {},
   "outputs": [],
   "source": [
    "#prediction on new review\n",
    "from sklearn.feature_extraction.text import ENGLISH_STOP_WORDS\n",
    "import string "
   ]
  },
  {
   "cell_type": "code",
   "execution_count": 70,
   "id": "9f9d656b",
   "metadata": {},
   "outputs": [],
   "source": [
    "def preprocess_text(text):\n",
    "    text = text.lower()\n",
    "    text = text.translate(str.maketrans('', '', string.punctuation))\n",
    "    text = ' '.join([word for word in text.split() if word not in ENGLISH_STOP_WORDS])\n",
    "    return text"
   ]
  },
  {
   "cell_type": "code",
   "execution_count": 71,
   "id": "afcf24d5",
   "metadata": {},
   "outputs": [],
   "source": [
    "new_reviews =[\"the food is bad😢\"]"
   ]
  },
  {
   "cell_type": "code",
   "execution_count": 72,
   "id": "92de88ac",
   "metadata": {},
   "outputs": [],
   "source": [
    "# Apply preprocessing to each review individually\n",
    "preprocessed_reviews = [preprocess_text(review) for review in new_reviews]"
   ]
  },
  {
   "cell_type": "code",
   "execution_count": 73,
   "id": "2d6a674e",
   "metadata": {},
   "outputs": [
    {
     "name": "stdout",
     "output_type": "stream",
     "text": [
      "Review: food bad😢\n",
      "Sentiment: negative\n",
      "\n"
     ]
    }
   ],
   "source": [
    "# Transform the new reviews\n",
    "x_new = vectorizer.transform(preprocessed_reviews)\n",
    "\n",
    "# Predict sentiment for each preprocessed review\n",
    "for review in preprocessed_reviews:\n",
    "    sentiment = model.predict(x_new)\n",
    "    sentiment_label = 'positive' if sentiment == 1 else 'negative'\n",
    "    print(f'Review: {review}\\nSentiment: {sentiment_label}\\n')\n"
   ]
  },
  {
   "cell_type": "markdown",
   "id": "bf9cc895",
   "metadata": {},
   "source": [
    "### Saving trained model"
   ]
  },
  {
   "cell_type": "code",
   "execution_count": 74,
   "id": "dac3cf55",
   "metadata": {},
   "outputs": [],
   "source": [
    "import pickle\n",
    "filename=\"Trained.pkl\"\n",
    "pickle.dump(model,open(filename,'wb'))"
   ]
  },
  {
   "cell_type": "markdown",
   "id": "a8cfbeea",
   "metadata": {},
   "source": [
    "### Loading the model to predict"
   ]
  },
  {
   "cell_type": "code",
   "execution_count": 75,
   "id": "e72713db",
   "metadata": {},
   "outputs": [],
   "source": [
    "load_model=pickle.load(open(\"C:\\\\Users\\\\HEMANTH KUMAR\\\\Sentiment Analysis\\\\Trained.pkl\",'rb'))"
   ]
  },
  {
   "cell_type": "code",
   "execution_count": 76,
   "id": "39d5bffa",
   "metadata": {},
   "outputs": [],
   "source": [
    "x_new=x_test[19]"
   ]
  },
  {
   "cell_type": "code",
   "execution_count": 77,
   "id": "74562e39",
   "metadata": {},
   "outputs": [
    {
     "name": "stdout",
     "output_type": "stream",
     "text": [
      "1\n"
     ]
    }
   ],
   "source": [
    "print(y_test.iloc[19])"
   ]
  },
  {
   "cell_type": "code",
   "execution_count": 78,
   "id": "e4bd2ebf",
   "metadata": {},
   "outputs": [
    {
     "name": "stdout",
     "output_type": "stream",
     "text": [
      "1\n",
      "Positive\n"
     ]
    }
   ],
   "source": [
    "prediction = model.predict(x_new)\n",
    "print(prediction[0])\n",
    "if prediction[0]==0:\n",
    "    print('Negative')\n",
    "else:\n",
    "    print('Positive')"
   ]
  },
  {
   "cell_type": "markdown",
   "id": "aad4ad32",
   "metadata": {},
   "source": [
    "#### Model To Predict New file"
   ]
  },
  {
   "cell_type": "code",
   "execution_count": 81,
   "id": "2a6940a4",
   "metadata": {},
   "outputs": [],
   "source": [
    "import pickle\n",
    "from sklearn.feature_extraction.text import TfidfVectorizer\n",
    "from sklearn.naive_bayes import MultinomialNB\n",
    "from sklearn.model_selection import train_test_split\n",
    "\n",
    "# Fit the vectorizer on the training data\n",
    "vectorizer = TfidfVectorizer()\n",
    "X = vectorizer.fit_transform(df['Review'])\n",
    "y = df['Liked']  # Assuming 'Liked' is the target column\n",
    "\n",
    "# Split the data\n",
    "x_train, x_test, y_train, y_test = train_test_split(X, y, test_size=0.2, random_state=42)\n",
    "\n",
    "# Train the Naive Bayes model\n",
    "model = MultinomialNB()\n",
    "model.fit(x_train, y_train)\n",
    "\n",
    "# Save the fitted vectorizer and the trained model\n",
    "with open('Vectorizer.pkl', 'wb') as vec_file:\n",
    "    pickle.dump(vectorizer, vec_file)\n",
    "\n",
    "with open('Trained.pkl', 'wb') as model_file:\n",
    "    pickle.dump(model, model_file)\n"
   ]
  },
  {
   "cell_type": "code",
   "execution_count": 82,
   "id": "57e0f855",
   "metadata": {},
   "outputs": [],
   "source": [
    "from sklearn.feature_extraction.text import TfidfVectorizer\n",
    "import string\n",
    "\n",
    "# Function to preprocess new data\n",
    "def preprocess_text(text):\n",
    "    text = text.lower()\n",
    "    text = text.translate(str.maketrans('', '', string.punctuation))\n",
    "    text = ' '.join([word for word in text.split() if word not in ENGLISH_STOP_WORDS])\n",
    "    return text\n",
    "\n",
    "# Load the fitted vectorizer and trained model\n",
    "with open('Vectorizer.pkl', 'rb') as vec_file:\n",
    "    vectorizer = pickle.load(vec_file)\n",
    "\n",
    "with open('Trained.pkl', 'rb') as model_file:\n",
    "    model = pickle.load(model_file)\n",
    "\n",
    "# Load the new CSV file\n",
    "new_data = pd.read_csv(\"C:\\\\Users\\\\HEMANTH KUMAR\\\\OneDrive\\\\Desktop\\\\Sentiment Analysis Project\\\\IMDB Dataset.csv\")\n",
    "\n",
    "# Preprocess the reviews in the new data\n",
    "new_data['Processed_Review'] = new_data['review'].apply(preprocess_text)\n",
    "\n",
    "# Transform the new reviews using the loaded vectorizer\n",
    "X_new = vectorizer.transform(new_data['Processed_Review'])\n",
    "\n",
    "# Predict sentiment\n",
    "new_data['Outcome'] = model.predict(X_new)\n",
    "new_data['Sentiment_Label'] = new_data['Outcome'].apply(lambda x: 'positive' if x == 1 else 'negative')\n",
    "# Save the predictions to a new CSV file\n",
    "new_data.to_csv('predictions.csv', index=False)\n"
   ]
  },
  {
   "cell_type": "code",
   "execution_count": null,
   "id": "206225bb",
   "metadata": {},
   "outputs": [],
   "source": []
  }
 ],
 "metadata": {
  "kernelspec": {
   "display_name": "Python 3 (ipykernel)",
   "language": "python",
   "name": "python3"
  },
  "language_info": {
   "codemirror_mode": {
    "name": "ipython",
    "version": 3
   },
   "file_extension": ".py",
   "mimetype": "text/x-python",
   "name": "python",
   "nbconvert_exporter": "python",
   "pygments_lexer": "ipython3",
   "version": "3.11.5"
  }
 },
 "nbformat": 4,
 "nbformat_minor": 5
}
